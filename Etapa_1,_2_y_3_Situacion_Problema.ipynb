{
  "nbformat": 4,
  "nbformat_minor": 0,
  "metadata": {
    "colab": {
      "name": "Etapa 1, 2 y 3 Situacion Problema.ipynb",
      "provenance": [],
      "collapsed_sections": []
    },
    "kernelspec": {
      "display_name": "Python 3",
      "name": "python3"
    },
    "language_info": {
      "name": "python"
    }
  },
  "cells": [
    {
      "cell_type": "markdown",
      "metadata": {
        "id": "yL1fatApYumS"
      },
      "source": [
        "* Natalia Muhech Gonzalez\n",
        "* A01028828\n",
        "* 17 de octubre del 2021\n",
        "* Link: https://colab.research.google.com/drive/10TlZUvUj8UiPREnZzhvBIe6UfL3iY6Ir?usp=sharing\n",
        " \n"
      ]
    },
    {
      "cell_type": "markdown",
      "metadata": {
        "id": "TFX3Jxg8hkVS"
      },
      "source": [
        "### **Situación problema 1: El futuro de la salud con una pandemia única en el siglo.**\n",
        "\n",
        "Debido al covid, quedó en evidencia que en México existen muchas enfermedades causadas por los malos hábitos alimenticios y la falta de actividad física como la diabetes, la hipertensión y la obesidad entre otras enfermedades. La implementación de un programa computacional que le permita al usuario visualizar sus datos y poder ver si está enfermo o sano podría servir mucho para prevenir estas enfermedades y para tratarlas también. El programa muestra todos los datos del empleado como el índice de masa corporal, lo cual es útil para saber si la persona sufre o no de sobrepeso. Este programa sirve como herramienta para los empleadores también, ya que pueden consultar los datos de todos sus empleados de la misma forma y llevar un reporte de sus empleados. Esto puede ser de gran ayuda para hacer conciencia en la sociedad acerca de los buenos hábitos y de la importancia de cuidarse y estar sano para evitar enfermedades aún más dañinas. Muchas veces las personas no están conscientes de cuál es el peso que deberían de tener de acuerdo a su estatura y es muy importante saber esto ya que tanto el sobrepeso como la falta de peso puede llegar a generar estas enfermedades las cuales pueden ser letales y este programa resulta una gran herramienta para hacerlo ya que solo pones tu peso y estatura y calcula tu imc. En México siempre ha habido una falta de conocimiento acerca de la buena alimentación y el sobrepeso, este programa puede ayudar a crear más conciencia y sensibilizar a la sociedad acerca de este tema tan importante. En el programa está el siguiente menú; 1. Alta de empleado, 2. Calcular imc de empleado, 3. Cambia información del empleado, 4. Consulta a un empleado, 5. Reporte de todos los empleados, 6. Salir. Cada una de estas opciones le brinda al usuario la información que necesita. La programación resulta ser muy útil para este tipo de cosas ya que el programa es fácil de usar y ayuda a llevar un orden y control de toda la información acerca de los empleados. Las empresas deberían de implementar este tipo de programas para poder conocer mejor a sus empleados y brindarles una buena atención.Por otra parte, sería muy útil si se pudiera desarrollar una aplicación para el teléfono en donde puedas revisar tu índice de masa corporal y que te diga en que categoria estas para poder cuidar de nuestra salud.\n",
        "Este programa se desarrolló en tres entregas en las cuales íbamos agregando funciones y desarrollando el programa para obtener el producto final.\n",
        "\n"
      ]
    },
    {
      "cell_type": "code",
      "metadata": {
        "id": "K3EE11-YZxjL",
        "colab": {
          "base_uri": "https://localhost:8080/",
          "height": 1211
        },
        "outputId": "86030dba-5560-4a47-9ff5-7d16dc4e3749"
      },
      "source": [
        "def menu():\n",
        "    print(\n",
        "      \"\"\"Sistema de Salud y Bienestar del Empleado\n",
        "      1. Alta de empleado\n",
        "      2. Calcular IMC de empleado\n",
        "      3.Cambia informacion del empleado\n",
        "      4. Consulta un empleado\n",
        "      5. Reporte de todos los empleados\n",
        "      6. Salir\"\"\")\n",
        "    opcion = int(input(\"Teclea la opcion que deseas: \"))\n",
        "    return opcion\n",
        "empleados =  [ ['1', 'Natalia', 21, 58, 1.73, '0', '0','1', '0', '0', '1', '2'],\n",
        "                ['2', 'Isabella', 24, 48, 1.65, '1', '0','0', '0', '0', '1', '3'],\n",
        "                ['3', 'Rafael', 30, 75, 1.80, '0', '1','0', '0', '1', '1', '1']]\n",
        "\n",
        "def alta_empleado(empleados): \n",
        "  id = int(input(\"Teclea el id del empleado: \"))\n",
        "  nombre = str(input(\"Teclea el nombre del empleado: \"))\n",
        "  edad = int(input(\"Teclea edad del empleado: \"))\n",
        "  peso = int(input(\"Teclea el peso en kg: \"))\n",
        "  estatura = float(input(\"Teclea la estatura en mts : \"))\n",
        "  diabetes = int(input(\"Diabetes? (1-Si/0-No): \"))\n",
        "  hipertension = int(input(\"Hipertension? (1-Si/0-No): \"))\n",
        "  corazon = int(input(\"Enfermedad corazon? (1-Si/0-No): \"))\n",
        "  cancer = int(input(\"Cancer? (1-Si/0-No): \"))\n",
        "  tabaquismo = int(input(\"Tabaquismo? (1-Si/0-No): \"))\n",
        "  vacuna_c = int(input(\"Vacuna COVID? (1-Si/0-No): \"))\n",
        "  departamento = int(input(\"Teclea el numero de departamento: \"))\n",
        "  info_empleado = [id, nombre, edad, peso, estatura, diabetes, hipertension, corazon, cancer, tabaquismo, vacuna_c, departamento]\n",
        "  print(f\"Se dio de alta al empleado {info_empleado}\")\n",
        "  empleados.append(info_empleado)\n",
        "\n",
        "def calcular_imc(empleados): \n",
        "  contador_imc = [0, 0, 0, 0, 0, 0, 0, 0]\n",
        "  print(f'{\"ID\":<10}{\"Nombre\":<10}{\"Peso\":<10}{\"Estatura\":<15}{\"IMC\":<10}{\"Clasificacion IMC\":<10}')\n",
        "  for empleado in empleados:\n",
        "    id, nombre, edad, peso, estatura, diabetes, hipertension, corazon, cancer, tabaquismo, vacuna_c, departamento = empleado\n",
        "    imc = peso / (estatura ** 2)\n",
        "    if imc < 16:\n",
        "      msj = \"Delgadez severa\"\n",
        "      contador_imc [0] += 1\n",
        "    elif 16 <= imc and imc < 19:\n",
        "      msj = \"Delgadez aceptable\"\n",
        "      contador_imc [1] += 1\n",
        "    elif 19 <= imc and imc < 25:\n",
        "      msj = \"Peso normal\"\n",
        "      contador_imc [2] += 1\n",
        "    elif 25 <= imc and imc < 30:\n",
        "      msj = \"Pre- obesidad (en riesgo)\"\n",
        "      contador_imc [3] += 1\n",
        "    elif 30 <= imc:\n",
        "      msj = \"Obsesidad\"\n",
        "      contador_imc [4] += 1 \n",
        "    else:\n",
        "        msj = print(\"No existe una descripción de peso\")\n",
        "    imc = round(imc,2)\n",
        "    print(f'{id:<10}{nombre:<10}{peso:<10}{estatura:<15}{imc:<10}{msj:<10}')\n",
        "    \n",
        "def actualiza_empleado(empleados):\n",
        "  cambio_id = input(\"Igresa el id del empleado a actualizar: \")\n",
        "  for num in range(len(empleados)):\n",
        "    empleado = empleados[num]\n",
        "    id_e = empleado[0]\n",
        "    if id_e == cambio_id:\n",
        "      existe = True\n",
        "      no = int(num)\n",
        "      break\n",
        "    else:\n",
        "      existe = False\n",
        "      if existe == True:\n",
        "        print(\"El empleado si existe\")\n",
        "  id, nombre, edad, peso, estatura, diabetes, hipertension, corazon, cancer, tabaquismo, vacuna_c, departamento = empleados[no]\n",
        "  cambio_datos = input(\"Si quieres cambiar los datos del empleado indica 'si'\")\n",
        "\n",
        "def consulta_empleado(empleados):\n",
        "  while True:\n",
        "    cambio_id = input(\"Ingresa el ID del empleado que deseas consultar: \")\n",
        "    for num in range(len(empleados)): \n",
        "      empleado = empleados[num]\n",
        "      id_e = empleado[0]\n",
        "      if id_e == cambio_id:\n",
        "        existe = True\n",
        "        no = int(num)\n",
        "        break\n",
        "      else:\n",
        "        existe = False\n",
        "    if existe == True:\n",
        "      print(\"El empleado si existe\")\n",
        "      id, nombre, edad, peso, estatura, diabetes, hipertension, corazon, cancer, tabaquismo, vacuna_c, departamento = empleado\n",
        "      print(f'{id:<10}{nombre:<15}{peso:<10}{estatura:<10}{\"Diabetes\" if diabetes == \"1\" else \"____________\":15}{\"Hipertensión\" if hipertension == \"1\" else \"____________\":17}{\"Corazón\" if corazon == \"1\" else \"____________\":15}{\"Cáncer\" if cancer == \"1\" else \"____________\":15}{\"Tabaquismo\" if tabaquismo == \"1\" else \"____________\":15}{\"Vacunado\" if vacuna_c == \"1\" else \"____________\":15}')\n",
        "    else:\n",
        "      print(\"El empleado no existe, usa otro ID\")\n",
        "\n",
        "def salir(): \n",
        "  print(\"Saliste del sistema\")\n",
        "  seguir = False \n",
        "\n",
        "def crea_reporte_empleados(empleados): \n",
        "  contador_enfermedades = [0, 0, 0, 0, 0, 0]\n",
        "  enfermedad = [\"Diabetes\", \"Hipertensión\", \"Corazón\", \"Cáncer\", \"Tabaquismo\", \"Vacuna Covid\"]\n",
        "  print(f'{\"ID\":<10}{\"Nombre\":<10}{\"Peso\":<10}{\"Estatura\":<10}{\"Enfermedades\":^77}{\"Vacuna Covid\":<15}')\n",
        "  for empleado in empleados:\n",
        "    id, nombre, edad, peso, estatura, diabetes, hipertension, corazon, cancer, tabaquismo, vacuna_c, departamento = empleado\n",
        "    if diabetes == \"1\":\n",
        "      contador_enfermedades[0] += 1\n",
        "    if hipertension == \"1\":\n",
        "      contador_enfermedades[1] += 1\n",
        "    if corazon == \"1\":\n",
        "      contador_enfermedades[2] += 1\n",
        "    if cancer == \"1\":\n",
        "      contador_enfermedades[3] += 1\n",
        "    if tabaquismo == \"1\":\n",
        "      contador_enfermedades[4] += 1\n",
        "    if vacuna_c == \"1\":\n",
        "      contador_enfermedades[5] += 1\n",
        "    print(f'{id:<10}{nombre:<15}{peso:<10}{estatura:<10}{\"Diabetes\" if diabetes == \"1\" else \"____________\":15}{\"Hipertensión\" if hipertension == \"1\" else \"____________\":17}{\"Corazón\" if corazon == \"1\" else \"____________\":15}{\"Cáncer\" if cancer == \"1\" else \"____________\":15}{\"Tabaquismo\" if tabaquismo == \"1\" else \"____________\":15}{\"Vacunado\" if vacuna_c == \"1\" else \"____________\":15}')\n",
        "\n",
        "def main():\n",
        "  seguir = True\n",
        "  opcion = ''\n",
        "  while opcion != 7:\n",
        "    opcion = menu ()\n",
        "    if opcion == 1:\n",
        "      alta_empleado(empleados)\n",
        "    elif opcion == 2:\n",
        "      calcular_imc(empleados)\n",
        "    elif opcion == 3:\n",
        "      actualiza_empleado(empleados)\n",
        "    elif opcion == 4:\n",
        "      consulta_empleado(empleados)\n",
        "    elif opcion == 5:\n",
        "      crea_reporte_empleados(empleados)\n",
        "    else:\n",
        "      salir()\n",
        "      break\n",
        "\n",
        "main()\n"
      ],
      "execution_count": 31,
      "outputs": [
        {
          "output_type": "stream",
          "name": "stdout",
          "text": [
            "Sistema de Salud y Bienestar del Empleado\n",
            "      1. Alta de empleado\n",
            "      2. Calcular IMC de empleado\n",
            "      3.Cambia informacion del empleado\n",
            "      4. Consulta un empleado\n",
            "      5. Reporte de todos los empleados\n",
            "      6. Salir\n",
            "Teclea la opcion que deseas: 5\n",
            "ID        Nombre    Peso      Estatura                                  Enfermedades                                 Vacuna Covid   \n",
            "1         Natalia        58        1.73      ____________   ____________     Corazón        ____________   ____________   Vacunado       \n",
            "2         Isabella       48        1.65      Diabetes       ____________     ____________   ____________   ____________   Vacunado       \n",
            "3         Rafael         75        1.8       ____________   Hipertensión     ____________   ____________   Tabaquismo     Vacunado       \n",
            "Sistema de Salud y Bienestar del Empleado\n",
            "      1. Alta de empleado\n",
            "      2. Calcular IMC de empleado\n",
            "      3.Cambia informacion del empleado\n",
            "      4. Consulta un empleado\n",
            "      5. Reporte de todos los empleados\n",
            "      6. Salir\n",
            "Teclea la opcion que deseas: 2\n",
            "ID        Nombre    Peso      Estatura       IMC       Clasificacion IMC\n",
            "1         Natalia   58        1.73           19.38     Peso normal\n",
            "2         Isabella  48        1.65           17.63     Delgadez aceptable\n",
            "3         Rafael    75        1.8            23.15     Peso normal\n",
            "Sistema de Salud y Bienestar del Empleado\n",
            "      1. Alta de empleado\n",
            "      2. Calcular IMC de empleado\n",
            "      3.Cambia informacion del empleado\n",
            "      4. Consulta un empleado\n",
            "      5. Reporte de todos los empleados\n",
            "      6. Salir\n",
            "Teclea la opcion que deseas: 4\n",
            "Ingresa el ID del empleado que deseas consultar: 2\n",
            "El empleado si existe\n",
            "2         Isabella       48        1.65      Diabetes       ____________     ____________   ____________   ____________   Vacunado       \n",
            "Ingresa el ID del empleado que deseas consultar: 4\n",
            "El empleado no existe, usa otro ID\n"
          ]
        },
        {
          "output_type": "error",
          "ename": "KeyboardInterrupt",
          "evalue": "ignored",
          "traceback": [
            "\u001b[0;31m---------------------------------------------------------------------------\u001b[0m",
            "\u001b[0;31mKeyboardInterrupt\u001b[0m                         Traceback (most recent call last)",
            "\u001b[0;32m/usr/local/lib/python3.7/dist-packages/ipykernel/kernelbase.py\u001b[0m in \u001b[0;36m_input_request\u001b[0;34m(self, prompt, ident, parent, password)\u001b[0m\n\u001b[1;32m    728\u001b[0m             \u001b[0;32mtry\u001b[0m\u001b[0;34m:\u001b[0m\u001b[0;34m\u001b[0m\u001b[0;34m\u001b[0m\u001b[0m\n\u001b[0;32m--> 729\u001b[0;31m                 \u001b[0mident\u001b[0m\u001b[0;34m,\u001b[0m \u001b[0mreply\u001b[0m \u001b[0;34m=\u001b[0m \u001b[0mself\u001b[0m\u001b[0;34m.\u001b[0m\u001b[0msession\u001b[0m\u001b[0;34m.\u001b[0m\u001b[0mrecv\u001b[0m\u001b[0;34m(\u001b[0m\u001b[0mself\u001b[0m\u001b[0;34m.\u001b[0m\u001b[0mstdin_socket\u001b[0m\u001b[0;34m,\u001b[0m \u001b[0;36m0\u001b[0m\u001b[0;34m)\u001b[0m\u001b[0;34m\u001b[0m\u001b[0;34m\u001b[0m\u001b[0m\n\u001b[0m\u001b[1;32m    730\u001b[0m             \u001b[0;32mexcept\u001b[0m \u001b[0mException\u001b[0m\u001b[0;34m:\u001b[0m\u001b[0;34m\u001b[0m\u001b[0;34m\u001b[0m\u001b[0m\n",
            "\u001b[0;32m/usr/local/lib/python3.7/dist-packages/jupyter_client/session.py\u001b[0m in \u001b[0;36mrecv\u001b[0;34m(self, socket, mode, content, copy)\u001b[0m\n\u001b[1;32m    802\u001b[0m         \u001b[0;32mtry\u001b[0m\u001b[0;34m:\u001b[0m\u001b[0;34m\u001b[0m\u001b[0;34m\u001b[0m\u001b[0m\n\u001b[0;32m--> 803\u001b[0;31m             \u001b[0mmsg_list\u001b[0m \u001b[0;34m=\u001b[0m \u001b[0msocket\u001b[0m\u001b[0;34m.\u001b[0m\u001b[0mrecv_multipart\u001b[0m\u001b[0;34m(\u001b[0m\u001b[0mmode\u001b[0m\u001b[0;34m,\u001b[0m \u001b[0mcopy\u001b[0m\u001b[0;34m=\u001b[0m\u001b[0mcopy\u001b[0m\u001b[0;34m)\u001b[0m\u001b[0;34m\u001b[0m\u001b[0;34m\u001b[0m\u001b[0m\n\u001b[0m\u001b[1;32m    804\u001b[0m         \u001b[0;32mexcept\u001b[0m \u001b[0mzmq\u001b[0m\u001b[0;34m.\u001b[0m\u001b[0mZMQError\u001b[0m \u001b[0;32mas\u001b[0m \u001b[0me\u001b[0m\u001b[0;34m:\u001b[0m\u001b[0;34m\u001b[0m\u001b[0;34m\u001b[0m\u001b[0m\n",
            "\u001b[0;32m/usr/local/lib/python3.7/dist-packages/zmq/sugar/socket.py\u001b[0m in \u001b[0;36mrecv_multipart\u001b[0;34m(self, flags, copy, track)\u001b[0m\n\u001b[1;32m    624\u001b[0m         \"\"\"\n\u001b[0;32m--> 625\u001b[0;31m         \u001b[0mparts\u001b[0m \u001b[0;34m=\u001b[0m \u001b[0;34m[\u001b[0m\u001b[0mself\u001b[0m\u001b[0;34m.\u001b[0m\u001b[0mrecv\u001b[0m\u001b[0;34m(\u001b[0m\u001b[0mflags\u001b[0m\u001b[0;34m,\u001b[0m \u001b[0mcopy\u001b[0m\u001b[0;34m=\u001b[0m\u001b[0mcopy\u001b[0m\u001b[0;34m,\u001b[0m \u001b[0mtrack\u001b[0m\u001b[0;34m=\u001b[0m\u001b[0mtrack\u001b[0m\u001b[0;34m)\u001b[0m\u001b[0;34m]\u001b[0m\u001b[0;34m\u001b[0m\u001b[0;34m\u001b[0m\u001b[0m\n\u001b[0m\u001b[1;32m    626\u001b[0m         \u001b[0;31m# have first part already, only loop while more to receive\u001b[0m\u001b[0;34m\u001b[0m\u001b[0;34m\u001b[0m\u001b[0;34m\u001b[0m\u001b[0m\n",
            "\u001b[0;32mzmq/backend/cython/socket.pyx\u001b[0m in \u001b[0;36mzmq.backend.cython.socket.Socket.recv\u001b[0;34m()\u001b[0m\n",
            "\u001b[0;32mzmq/backend/cython/socket.pyx\u001b[0m in \u001b[0;36mzmq.backend.cython.socket.Socket.recv\u001b[0;34m()\u001b[0m\n",
            "\u001b[0;32mzmq/backend/cython/socket.pyx\u001b[0m in \u001b[0;36mzmq.backend.cython.socket._recv_copy\u001b[0;34m()\u001b[0m\n",
            "\u001b[0;32m/usr/local/lib/python3.7/dist-packages/zmq/backend/cython/checkrc.pxd\u001b[0m in \u001b[0;36mzmq.backend.cython.checkrc._check_rc\u001b[0;34m()\u001b[0m\n",
            "\u001b[0;31mKeyboardInterrupt\u001b[0m: ",
            "\nDuring handling of the above exception, another exception occurred:\n",
            "\u001b[0;31mKeyboardInterrupt\u001b[0m                         Traceback (most recent call last)",
            "\u001b[0;32m<ipython-input-31-4d34a6447d82>\u001b[0m in \u001b[0;36m<module>\u001b[0;34m()\u001b[0m\n\u001b[1;32m    135\u001b[0m       \u001b[0;32mbreak\u001b[0m\u001b[0;34m\u001b[0m\u001b[0;34m\u001b[0m\u001b[0m\n\u001b[1;32m    136\u001b[0m \u001b[0;34m\u001b[0m\u001b[0m\n\u001b[0;32m--> 137\u001b[0;31m \u001b[0mmain\u001b[0m\u001b[0;34m(\u001b[0m\u001b[0;34m)\u001b[0m\u001b[0;34m\u001b[0m\u001b[0;34m\u001b[0m\u001b[0m\n\u001b[0m",
            "\u001b[0;32m<ipython-input-31-4d34a6447d82>\u001b[0m in \u001b[0;36mmain\u001b[0;34m()\u001b[0m\n\u001b[1;32m    128\u001b[0m       \u001b[0mactualiza_empleado\u001b[0m\u001b[0;34m(\u001b[0m\u001b[0mempleados\u001b[0m\u001b[0;34m)\u001b[0m\u001b[0;34m\u001b[0m\u001b[0;34m\u001b[0m\u001b[0m\n\u001b[1;32m    129\u001b[0m     \u001b[0;32melif\u001b[0m \u001b[0mopcion\u001b[0m \u001b[0;34m==\u001b[0m \u001b[0;36m4\u001b[0m\u001b[0;34m:\u001b[0m\u001b[0;34m\u001b[0m\u001b[0;34m\u001b[0m\u001b[0m\n\u001b[0;32m--> 130\u001b[0;31m       \u001b[0mconsulta_empleado\u001b[0m\u001b[0;34m(\u001b[0m\u001b[0mempleados\u001b[0m\u001b[0;34m)\u001b[0m\u001b[0;34m\u001b[0m\u001b[0;34m\u001b[0m\u001b[0m\n\u001b[0m\u001b[1;32m    131\u001b[0m     \u001b[0;32melif\u001b[0m \u001b[0mopcion\u001b[0m \u001b[0;34m==\u001b[0m \u001b[0;36m5\u001b[0m\u001b[0;34m:\u001b[0m\u001b[0;34m\u001b[0m\u001b[0;34m\u001b[0m\u001b[0m\n\u001b[1;32m    132\u001b[0m       \u001b[0mcrea_reporte_empleados\u001b[0m\u001b[0;34m(\u001b[0m\u001b[0mempleados\u001b[0m\u001b[0;34m)\u001b[0m\u001b[0;34m\u001b[0m\u001b[0;34m\u001b[0m\u001b[0m\n",
            "\u001b[0;32m<ipython-input-31-4d34a6447d82>\u001b[0m in \u001b[0;36mconsulta_empleado\u001b[0;34m(empleados)\u001b[0m\n\u001b[1;32m     75\u001b[0m \u001b[0;32mdef\u001b[0m \u001b[0mconsulta_empleado\u001b[0m\u001b[0;34m(\u001b[0m\u001b[0mempleados\u001b[0m\u001b[0;34m)\u001b[0m\u001b[0;34m:\u001b[0m\u001b[0;34m\u001b[0m\u001b[0;34m\u001b[0m\u001b[0m\n\u001b[1;32m     76\u001b[0m   \u001b[0;32mwhile\u001b[0m \u001b[0;32mTrue\u001b[0m\u001b[0;34m:\u001b[0m\u001b[0;34m\u001b[0m\u001b[0;34m\u001b[0m\u001b[0m\n\u001b[0;32m---> 77\u001b[0;31m     \u001b[0mcambio_id\u001b[0m \u001b[0;34m=\u001b[0m \u001b[0minput\u001b[0m\u001b[0;34m(\u001b[0m\u001b[0;34m\"Ingresa el ID del empleado que deseas consultar: \"\u001b[0m\u001b[0;34m)\u001b[0m\u001b[0;34m\u001b[0m\u001b[0;34m\u001b[0m\u001b[0m\n\u001b[0m\u001b[1;32m     78\u001b[0m     \u001b[0;32mfor\u001b[0m \u001b[0mnum\u001b[0m \u001b[0;32min\u001b[0m \u001b[0mrange\u001b[0m\u001b[0;34m(\u001b[0m\u001b[0mlen\u001b[0m\u001b[0;34m(\u001b[0m\u001b[0mempleados\u001b[0m\u001b[0;34m)\u001b[0m\u001b[0;34m)\u001b[0m\u001b[0;34m:\u001b[0m\u001b[0;34m\u001b[0m\u001b[0;34m\u001b[0m\u001b[0m\n\u001b[1;32m     79\u001b[0m       \u001b[0mempleado\u001b[0m \u001b[0;34m=\u001b[0m \u001b[0mempleados\u001b[0m\u001b[0;34m[\u001b[0m\u001b[0mnum\u001b[0m\u001b[0;34m]\u001b[0m\u001b[0;34m\u001b[0m\u001b[0;34m\u001b[0m\u001b[0m\n",
            "\u001b[0;32m/usr/local/lib/python3.7/dist-packages/ipykernel/kernelbase.py\u001b[0m in \u001b[0;36mraw_input\u001b[0;34m(self, prompt)\u001b[0m\n\u001b[1;32m    702\u001b[0m             \u001b[0mself\u001b[0m\u001b[0;34m.\u001b[0m\u001b[0m_parent_ident\u001b[0m\u001b[0;34m,\u001b[0m\u001b[0;34m\u001b[0m\u001b[0;34m\u001b[0m\u001b[0m\n\u001b[1;32m    703\u001b[0m             \u001b[0mself\u001b[0m\u001b[0;34m.\u001b[0m\u001b[0m_parent_header\u001b[0m\u001b[0;34m,\u001b[0m\u001b[0;34m\u001b[0m\u001b[0;34m\u001b[0m\u001b[0m\n\u001b[0;32m--> 704\u001b[0;31m             \u001b[0mpassword\u001b[0m\u001b[0;34m=\u001b[0m\u001b[0;32mFalse\u001b[0m\u001b[0;34m,\u001b[0m\u001b[0;34m\u001b[0m\u001b[0;34m\u001b[0m\u001b[0m\n\u001b[0m\u001b[1;32m    705\u001b[0m         )\n\u001b[1;32m    706\u001b[0m \u001b[0;34m\u001b[0m\u001b[0m\n",
            "\u001b[0;32m/usr/local/lib/python3.7/dist-packages/ipykernel/kernelbase.py\u001b[0m in \u001b[0;36m_input_request\u001b[0;34m(self, prompt, ident, parent, password)\u001b[0m\n\u001b[1;32m    732\u001b[0m             \u001b[0;32mexcept\u001b[0m \u001b[0mKeyboardInterrupt\u001b[0m\u001b[0;34m:\u001b[0m\u001b[0;34m\u001b[0m\u001b[0;34m\u001b[0m\u001b[0m\n\u001b[1;32m    733\u001b[0m                 \u001b[0;31m# re-raise KeyboardInterrupt, to truncate traceback\u001b[0m\u001b[0;34m\u001b[0m\u001b[0;34m\u001b[0m\u001b[0;34m\u001b[0m\u001b[0m\n\u001b[0;32m--> 734\u001b[0;31m                 \u001b[0;32mraise\u001b[0m \u001b[0mKeyboardInterrupt\u001b[0m\u001b[0;34m\u001b[0m\u001b[0;34m\u001b[0m\u001b[0m\n\u001b[0m\u001b[1;32m    735\u001b[0m             \u001b[0;32melse\u001b[0m\u001b[0;34m:\u001b[0m\u001b[0;34m\u001b[0m\u001b[0;34m\u001b[0m\u001b[0m\n\u001b[1;32m    736\u001b[0m                 \u001b[0;32mbreak\u001b[0m\u001b[0;34m\u001b[0m\u001b[0;34m\u001b[0m\u001b[0m\n",
            "\u001b[0;31mKeyboardInterrupt\u001b[0m: "
          ]
        }
      ]
    },
    {
      "cell_type": "markdown",
      "metadata": {
        "id": "IxLmXWUsjnBV"
      },
      "source": [
        "### **Algoritmos**\n",
        "1. def alta_empleado():Esta función solicita todos los datos del empleado y los almacena en listas.\n",
        "2. def menu( ): Función que muestra el menú de opciones, además lee el valor de la opción y lo retorna. \n",
        "3. def main( ): Desplega el menú de opciones del programa y tiene todos los condicionales para llamar a la función solicitada por el usuario.En caso de seleccionar una opción que no exista muestra“Opcion incorrecta”. \n",
        "4. def calcular_imc( ): Genera un reporte de diagnóstico de IMC usando la información de la lista de empleados. Calcula el IMC = peso / estatura2.\n",
        "5. def actualizar_empleado( ): Despliega en un solo renglón la información que se encuentra actualmente en la lista de empleados. La función valida que el empleado exista. Si el id del empleado es correcto la función solicita todos los datos del empleado, si el usuario no quiere cambiar algún dato, solo debe dar <enter> y con ello se debe conservar la información que tenía previamente el empleado. \n",
        "6. def consultar_empleado( ):Despliega en un solo renglón toda la información que se encuentra actualmente en la lista de empleados, la función valida que el empleado exista, si existe muestra en un renglón toda la información del empleado, de lo contrario muestra un mensaje indicando que no existe.\n",
        "7. def crear_reporte_empleados( ):El reporte deberá despliega a todos los empleados que tienen cada tipo de enfermedad y calcula porcentajes de empleados dentro de cada enfermedad\n",
        "8. def salir( ): Sales del sistema\n",
        "\n"
      ]
    },
    {
      "cell_type": "markdown",
      "metadata": {
        "id": "Sgnm02OuwBYQ"
      },
      "source": [
        "### **Plan de pruebas**\n"
      ]
    },
    {
      "cell_type": "code",
      "metadata": {
        "colab": {
          "base_uri": "https://localhost:8080/",
          "height": 664
        },
        "id": "B3IE1PcowAAR",
        "outputId": "131abc58-c0af-447b-ce63-6d5a26e7526a"
      },
      "source": [
        "menu()\n",
        "main() #puse decimal en el peso y marca error porque no es float "
      ],
      "execution_count": 25,
      "outputs": [
        {
          "name": "stdout",
          "output_type": "stream",
          "text": [
            "Sistema de Salud y Bienestar del Empleado\n",
            "      1. Alta de empleado\n",
            "      2. Calcular IMC de empleado\n",
            "      3.Cambia informacion del empleado\n",
            "      4. Consulta un empleado\n",
            "      5. Reporte de todos los empleados\n",
            "      6. Salir\n",
            "Teclea la opcion que deseas: 1\n",
            "Sistema de Salud y Bienestar del Empleado\n",
            "      1. Alta de empleado\n",
            "      2. Calcular IMC de empleado\n",
            "      3.Cambia informacion del empleado\n",
            "      4. Consulta un empleado\n",
            "      5. Reporte de todos los empleados\n",
            "      6. Salir\n",
            "Teclea la opcion que deseas: 1\n",
            "Teclea el id del empleado: 3\n",
            "Teclea el nombre del empleado: Roberto\n",
            "Teclea edad del empleado: 56\n",
            "Teclea el peso en kg: 1.89\n"
          ]
        },
        {
          "output_type": "error",
          "ename": "ValueError",
          "evalue": "ignored",
          "traceback": [
            "\u001b[0;31m---------------------------------------------------------------------------\u001b[0m",
            "\u001b[0;31mValueError\u001b[0m                                Traceback (most recent call last)",
            "\u001b[0;32m<ipython-input-25-1a2df879c39e>\u001b[0m in \u001b[0;36m<module>\u001b[0;34m()\u001b[0m\n\u001b[1;32m      1\u001b[0m \u001b[0mmenu\u001b[0m\u001b[0;34m(\u001b[0m\u001b[0;34m)\u001b[0m\u001b[0;34m\u001b[0m\u001b[0;34m\u001b[0m\u001b[0m\n\u001b[0;32m----> 2\u001b[0;31m \u001b[0mmain\u001b[0m\u001b[0;34m(\u001b[0m\u001b[0;34m)\u001b[0m\u001b[0;34m\u001b[0m\u001b[0;34m\u001b[0m\u001b[0m\n\u001b[0m",
            "\u001b[0;32m<ipython-input-19-4d34a6447d82>\u001b[0m in \u001b[0;36mmain\u001b[0;34m()\u001b[0m\n\u001b[1;32m    122\u001b[0m     \u001b[0mopcion\u001b[0m \u001b[0;34m=\u001b[0m \u001b[0mmenu\u001b[0m \u001b[0;34m(\u001b[0m\u001b[0;34m)\u001b[0m\u001b[0;34m\u001b[0m\u001b[0;34m\u001b[0m\u001b[0m\n\u001b[1;32m    123\u001b[0m     \u001b[0;32mif\u001b[0m \u001b[0mopcion\u001b[0m \u001b[0;34m==\u001b[0m \u001b[0;36m1\u001b[0m\u001b[0;34m:\u001b[0m\u001b[0;34m\u001b[0m\u001b[0;34m\u001b[0m\u001b[0m\n\u001b[0;32m--> 124\u001b[0;31m       \u001b[0malta_empleado\u001b[0m\u001b[0;34m(\u001b[0m\u001b[0mempleados\u001b[0m\u001b[0;34m)\u001b[0m\u001b[0;34m\u001b[0m\u001b[0;34m\u001b[0m\u001b[0m\n\u001b[0m\u001b[1;32m    125\u001b[0m     \u001b[0;32melif\u001b[0m \u001b[0mopcion\u001b[0m \u001b[0;34m==\u001b[0m \u001b[0;36m2\u001b[0m\u001b[0;34m:\u001b[0m\u001b[0;34m\u001b[0m\u001b[0;34m\u001b[0m\u001b[0m\n\u001b[1;32m    126\u001b[0m       \u001b[0mcalcular_imc\u001b[0m\u001b[0;34m(\u001b[0m\u001b[0mempleados\u001b[0m\u001b[0;34m)\u001b[0m\u001b[0;34m\u001b[0m\u001b[0;34m\u001b[0m\u001b[0m\n",
            "\u001b[0;32m<ipython-input-19-4d34a6447d82>\u001b[0m in \u001b[0;36malta_empleado\u001b[0;34m(empleados)\u001b[0m\n\u001b[1;32m     18\u001b[0m   \u001b[0mnombre\u001b[0m \u001b[0;34m=\u001b[0m \u001b[0mstr\u001b[0m\u001b[0;34m(\u001b[0m\u001b[0minput\u001b[0m\u001b[0;34m(\u001b[0m\u001b[0;34m\"Teclea el nombre del empleado: \"\u001b[0m\u001b[0;34m)\u001b[0m\u001b[0;34m)\u001b[0m\u001b[0;34m\u001b[0m\u001b[0;34m\u001b[0m\u001b[0m\n\u001b[1;32m     19\u001b[0m   \u001b[0medad\u001b[0m \u001b[0;34m=\u001b[0m \u001b[0mint\u001b[0m\u001b[0;34m(\u001b[0m\u001b[0minput\u001b[0m\u001b[0;34m(\u001b[0m\u001b[0;34m\"Teclea edad del empleado: \"\u001b[0m\u001b[0;34m)\u001b[0m\u001b[0;34m)\u001b[0m\u001b[0;34m\u001b[0m\u001b[0;34m\u001b[0m\u001b[0m\n\u001b[0;32m---> 20\u001b[0;31m   \u001b[0mpeso\u001b[0m \u001b[0;34m=\u001b[0m \u001b[0mint\u001b[0m\u001b[0;34m(\u001b[0m\u001b[0minput\u001b[0m\u001b[0;34m(\u001b[0m\u001b[0;34m\"Teclea el peso en kg: \"\u001b[0m\u001b[0;34m)\u001b[0m\u001b[0;34m)\u001b[0m\u001b[0;34m\u001b[0m\u001b[0;34m\u001b[0m\u001b[0m\n\u001b[0m\u001b[1;32m     21\u001b[0m   \u001b[0mestatura\u001b[0m \u001b[0;34m=\u001b[0m \u001b[0mfloat\u001b[0m\u001b[0;34m(\u001b[0m\u001b[0minput\u001b[0m\u001b[0;34m(\u001b[0m\u001b[0;34m\"Teclea la estatura en mts : \"\u001b[0m\u001b[0;34m)\u001b[0m\u001b[0;34m)\u001b[0m\u001b[0;34m\u001b[0m\u001b[0;34m\u001b[0m\u001b[0m\n\u001b[1;32m     22\u001b[0m   \u001b[0mdiabetes\u001b[0m \u001b[0;34m=\u001b[0m \u001b[0mint\u001b[0m\u001b[0;34m(\u001b[0m\u001b[0minput\u001b[0m\u001b[0;34m(\u001b[0m\u001b[0;34m\"Diabetes? (1-Si/0-No): \"\u001b[0m\u001b[0;34m)\u001b[0m\u001b[0;34m)\u001b[0m\u001b[0;34m\u001b[0m\u001b[0;34m\u001b[0m\u001b[0m\n",
            "\u001b[0;31mValueError\u001b[0m: invalid literal for int() with base 10: '1.89'"
          ]
        }
      ]
    },
    {
      "cell_type": "code",
      "metadata": {
        "colab": {
          "base_uri": "https://localhost:8080/",
          "height": 630
        },
        "id": "b1gGbY8WxZre",
        "outputId": "b80bde2a-514d-4892-ede8-ebc1983f0c1c"
      },
      "source": [
        "menu()\n",
        "main()\n"
      ],
      "execution_count": 26,
      "outputs": [
        {
          "name": "stdout",
          "output_type": "stream",
          "text": [
            "Sistema de Salud y Bienestar del Empleado\n",
            "      1. Alta de empleado\n",
            "      2. Calcular IMC de empleado\n",
            "      3.Cambia informacion del empleado\n",
            "      4. Consulta un empleado\n",
            "      5. Reporte de todos los empleados\n",
            "      6. Salir\n",
            "Teclea la opcion que deseas: 6\n",
            "Sistema de Salud y Bienestar del Empleado\n",
            "      1. Alta de empleado\n",
            "      2. Calcular IMC de empleado\n",
            "      3.Cambia informacion del empleado\n",
            "      4. Consulta un empleado\n",
            "      5. Reporte de todos los empleados\n",
            "      6. Salir\n",
            "Teclea la opcion que deseas: 3\n",
            "Igresa el id del empleado a actualizar: 4\n"
          ]
        },
        {
          "output_type": "error",
          "ename": "UnboundLocalError",
          "evalue": "ignored",
          "traceback": [
            "\u001b[0;31m---------------------------------------------------------------------------\u001b[0m",
            "\u001b[0;31mUnboundLocalError\u001b[0m                         Traceback (most recent call last)",
            "\u001b[0;32m<ipython-input-26-1a2df879c39e>\u001b[0m in \u001b[0;36m<module>\u001b[0;34m()\u001b[0m\n\u001b[1;32m      1\u001b[0m \u001b[0mmenu\u001b[0m\u001b[0;34m(\u001b[0m\u001b[0;34m)\u001b[0m\u001b[0;34m\u001b[0m\u001b[0;34m\u001b[0m\u001b[0m\n\u001b[0;32m----> 2\u001b[0;31m \u001b[0mmain\u001b[0m\u001b[0;34m(\u001b[0m\u001b[0;34m)\u001b[0m\u001b[0;34m\u001b[0m\u001b[0;34m\u001b[0m\u001b[0m\n\u001b[0m",
            "\u001b[0;32m<ipython-input-19-4d34a6447d82>\u001b[0m in \u001b[0;36mmain\u001b[0;34m()\u001b[0m\n\u001b[1;32m    126\u001b[0m       \u001b[0mcalcular_imc\u001b[0m\u001b[0;34m(\u001b[0m\u001b[0mempleados\u001b[0m\u001b[0;34m)\u001b[0m\u001b[0;34m\u001b[0m\u001b[0;34m\u001b[0m\u001b[0m\n\u001b[1;32m    127\u001b[0m     \u001b[0;32melif\u001b[0m \u001b[0mopcion\u001b[0m \u001b[0;34m==\u001b[0m \u001b[0;36m3\u001b[0m\u001b[0;34m:\u001b[0m\u001b[0;34m\u001b[0m\u001b[0;34m\u001b[0m\u001b[0m\n\u001b[0;32m--> 128\u001b[0;31m       \u001b[0mactualiza_empleado\u001b[0m\u001b[0;34m(\u001b[0m\u001b[0mempleados\u001b[0m\u001b[0;34m)\u001b[0m\u001b[0;34m\u001b[0m\u001b[0;34m\u001b[0m\u001b[0m\n\u001b[0m\u001b[1;32m    129\u001b[0m     \u001b[0;32melif\u001b[0m \u001b[0mopcion\u001b[0m \u001b[0;34m==\u001b[0m \u001b[0;36m4\u001b[0m\u001b[0;34m:\u001b[0m\u001b[0;34m\u001b[0m\u001b[0;34m\u001b[0m\u001b[0m\n\u001b[1;32m    130\u001b[0m       \u001b[0mconsulta_empleado\u001b[0m\u001b[0;34m(\u001b[0m\u001b[0mempleados\u001b[0m\u001b[0;34m)\u001b[0m\u001b[0;34m\u001b[0m\u001b[0;34m\u001b[0m\u001b[0m\n",
            "\u001b[0;32m<ipython-input-19-4d34a6447d82>\u001b[0m in \u001b[0;36mactualiza_empleado\u001b[0;34m(empleados)\u001b[0m\n\u001b[1;32m     70\u001b[0m       \u001b[0;32mif\u001b[0m \u001b[0mexiste\u001b[0m \u001b[0;34m==\u001b[0m \u001b[0;32mTrue\u001b[0m\u001b[0;34m:\u001b[0m\u001b[0;34m\u001b[0m\u001b[0;34m\u001b[0m\u001b[0m\n\u001b[1;32m     71\u001b[0m         \u001b[0mprint\u001b[0m\u001b[0;34m(\u001b[0m\u001b[0;34m\"El empleado si existe\"\u001b[0m\u001b[0;34m)\u001b[0m\u001b[0;34m\u001b[0m\u001b[0;34m\u001b[0m\u001b[0m\n\u001b[0;32m---> 72\u001b[0;31m   \u001b[0mid\u001b[0m\u001b[0;34m,\u001b[0m \u001b[0mnombre\u001b[0m\u001b[0;34m,\u001b[0m \u001b[0medad\u001b[0m\u001b[0;34m,\u001b[0m \u001b[0mpeso\u001b[0m\u001b[0;34m,\u001b[0m \u001b[0mestatura\u001b[0m\u001b[0;34m,\u001b[0m \u001b[0mdiabetes\u001b[0m\u001b[0;34m,\u001b[0m \u001b[0mhipertension\u001b[0m\u001b[0;34m,\u001b[0m \u001b[0mcorazon\u001b[0m\u001b[0;34m,\u001b[0m \u001b[0mcancer\u001b[0m\u001b[0;34m,\u001b[0m \u001b[0mtabaquismo\u001b[0m\u001b[0;34m,\u001b[0m \u001b[0mvacuna_c\u001b[0m\u001b[0;34m,\u001b[0m \u001b[0mdepartamento\u001b[0m \u001b[0;34m=\u001b[0m \u001b[0mempleados\u001b[0m\u001b[0;34m[\u001b[0m\u001b[0mno\u001b[0m\u001b[0;34m]\u001b[0m\u001b[0;34m\u001b[0m\u001b[0;34m\u001b[0m\u001b[0m\n\u001b[0m\u001b[1;32m     73\u001b[0m   \u001b[0mcambio_datos\u001b[0m \u001b[0;34m=\u001b[0m \u001b[0minput\u001b[0m\u001b[0;34m(\u001b[0m\u001b[0;34m\"Si quieres cambiar los datos del empleado indica 'si'\"\u001b[0m\u001b[0;34m)\u001b[0m\u001b[0;34m\u001b[0m\u001b[0;34m\u001b[0m\u001b[0m\n\u001b[1;32m     74\u001b[0m \u001b[0;34m\u001b[0m\u001b[0m\n",
            "\u001b[0;31mUnboundLocalError\u001b[0m: local variable 'no' referenced before assignment"
          ]
        }
      ]
    },
    {
      "cell_type": "code",
      "metadata": {
        "colab": {
          "base_uri": "https://localhost:8080/",
          "height": 596
        },
        "id": "SVnVLKT8xi2Y",
        "outputId": "56df99c0-dcbe-4b3f-f5ea-4b79a927f628"
      },
      "source": [
        "menu()\n",
        "main() #marca erros por poner \\\n"
      ],
      "execution_count": 27,
      "outputs": [
        {
          "name": "stdout",
          "output_type": "stream",
          "text": [
            "Sistema de Salud y Bienestar del Empleado\n",
            "      1. Alta de empleado\n",
            "      2. Calcular IMC de empleado\n",
            "      3.Cambia informacion del empleado\n",
            "      4. Consulta un empleado\n",
            "      5. Reporte de todos los empleados\n",
            "      6. Salir\n",
            "Teclea la opcion que deseas: 90\n",
            "Sistema de Salud y Bienestar del Empleado\n",
            "      1. Alta de empleado\n",
            "      2. Calcular IMC de empleado\n",
            "      3.Cambia informacion del empleado\n",
            "      4. Consulta un empleado\n",
            "      5. Reporte de todos los empleados\n",
            "      6. Salir\n",
            "Teclea la opcion que deseas: 1\\\n"
          ]
        },
        {
          "output_type": "error",
          "ename": "ValueError",
          "evalue": "ignored",
          "traceback": [
            "\u001b[0;31m---------------------------------------------------------------------------\u001b[0m",
            "\u001b[0;31mValueError\u001b[0m                                Traceback (most recent call last)",
            "\u001b[0;32m<ipython-input-27-1a2df879c39e>\u001b[0m in \u001b[0;36m<module>\u001b[0;34m()\u001b[0m\n\u001b[1;32m      1\u001b[0m \u001b[0mmenu\u001b[0m\u001b[0;34m(\u001b[0m\u001b[0;34m)\u001b[0m\u001b[0;34m\u001b[0m\u001b[0;34m\u001b[0m\u001b[0m\n\u001b[0;32m----> 2\u001b[0;31m \u001b[0mmain\u001b[0m\u001b[0;34m(\u001b[0m\u001b[0;34m)\u001b[0m\u001b[0;34m\u001b[0m\u001b[0;34m\u001b[0m\u001b[0m\n\u001b[0m",
            "\u001b[0;32m<ipython-input-19-4d34a6447d82>\u001b[0m in \u001b[0;36mmain\u001b[0;34m()\u001b[0m\n\u001b[1;32m    120\u001b[0m   \u001b[0mopcion\u001b[0m \u001b[0;34m=\u001b[0m \u001b[0;34m''\u001b[0m\u001b[0;34m\u001b[0m\u001b[0;34m\u001b[0m\u001b[0m\n\u001b[1;32m    121\u001b[0m   \u001b[0;32mwhile\u001b[0m \u001b[0mopcion\u001b[0m \u001b[0;34m!=\u001b[0m \u001b[0;36m7\u001b[0m\u001b[0;34m:\u001b[0m\u001b[0;34m\u001b[0m\u001b[0;34m\u001b[0m\u001b[0m\n\u001b[0;32m--> 122\u001b[0;31m     \u001b[0mopcion\u001b[0m \u001b[0;34m=\u001b[0m \u001b[0mmenu\u001b[0m \u001b[0;34m(\u001b[0m\u001b[0;34m)\u001b[0m\u001b[0;34m\u001b[0m\u001b[0;34m\u001b[0m\u001b[0m\n\u001b[0m\u001b[1;32m    123\u001b[0m     \u001b[0;32mif\u001b[0m \u001b[0mopcion\u001b[0m \u001b[0;34m==\u001b[0m \u001b[0;36m1\u001b[0m\u001b[0;34m:\u001b[0m\u001b[0;34m\u001b[0m\u001b[0;34m\u001b[0m\u001b[0m\n\u001b[1;32m    124\u001b[0m       \u001b[0malta_empleado\u001b[0m\u001b[0;34m(\u001b[0m\u001b[0mempleados\u001b[0m\u001b[0;34m)\u001b[0m\u001b[0;34m\u001b[0m\u001b[0;34m\u001b[0m\u001b[0m\n",
            "\u001b[0;32m<ipython-input-19-4d34a6447d82>\u001b[0m in \u001b[0;36mmenu\u001b[0;34m()\u001b[0m\n\u001b[1;32m      8\u001b[0m       \u001b[0;36m5.\u001b[0m \u001b[0mReporte\u001b[0m \u001b[0mde\u001b[0m \u001b[0mtodos\u001b[0m \u001b[0mlos\u001b[0m \u001b[0mempleados\u001b[0m\u001b[0;34m\u001b[0m\u001b[0;34m\u001b[0m\u001b[0m\n\u001b[1;32m      9\u001b[0m       6. Salir\"\"\")\n\u001b[0;32m---> 10\u001b[0;31m     \u001b[0mopcion\u001b[0m \u001b[0;34m=\u001b[0m \u001b[0mint\u001b[0m\u001b[0;34m(\u001b[0m\u001b[0minput\u001b[0m\u001b[0;34m(\u001b[0m\u001b[0;34m\"Teclea la opcion que deseas: \"\u001b[0m\u001b[0;34m)\u001b[0m\u001b[0;34m)\u001b[0m\u001b[0;34m\u001b[0m\u001b[0;34m\u001b[0m\u001b[0m\n\u001b[0m\u001b[1;32m     11\u001b[0m     \u001b[0;32mreturn\u001b[0m \u001b[0mopcion\u001b[0m\u001b[0;34m\u001b[0m\u001b[0;34m\u001b[0m\u001b[0m\n\u001b[1;32m     12\u001b[0m empleados =  [ ['1', 'Natalia', 21, 58, 1.73, '0', '0','1', '0', '0', '1', '2'],\n",
            "\u001b[0;31mValueError\u001b[0m: invalid literal for int() with base 10: '1\\\\'"
          ]
        }
      ]
    },
    {
      "cell_type": "code",
      "metadata": {
        "colab": {
          "base_uri": "https://localhost:8080/",
          "height": 232
        },
        "id": "w2E8DuXXu3XH",
        "outputId": "2c1d6e2a-e4d7-4a38-ea4c-73f06f833627"
      },
      "source": [
        "\"\"\"empleados =  [ ['1', 'Natalia', 21, 58, 1.73, '0', '0','1', '0', '0', '1', '2'],\n",
        "                ['2', 'Isabella', 24, 48, 1.65, '1', '0','0', '0', '0', '1', '3'],\n",
        "                ['3', 'Rafael', 30, 75, 1.80, '0', '1','0', '0', '1', '1', '1']]\"\"\"\n",
        "\n",
        "nombre_archivo = \"empleados_salud.txt\"\n",
        "global empleados \n",
        "empleados = []\n",
        "\n",
        "def leer_archivo(nombre):\n",
        "  with open(nombre_archivo, \"r\") as archivo:  \n",
        "    contenido = archivo.readlines() \n",
        "    for elemento in contenido: \n",
        "      linea = elemento.split(\",\") \n",
        "      linea[7] = linea[7][:-1] \n",
        "      empleados.append(linea) \n",
        "\n",
        "empleados = leer_archivo(nombre_archivo) \n",
        "def guardar_archivo(nombre):\n",
        "  with open(nombre_archivo, \"w\") as archivo:\n",
        "    for empleado in empleados:\n",
        "      empleado[1] = str(pregunta[1]) \n",
        "      texto = \",\".join(empleados)\n",
        "      archivo.write(texto + \"\\n\") "
      ],
      "execution_count": 29,
      "outputs": [
        {
          "output_type": "error",
          "ename": "NameError",
          "evalue": "ignored",
          "traceback": [
            "\u001b[0;31m---------------------------------------------------------------------------\u001b[0m",
            "\u001b[0;31mNameError\u001b[0m                                 Traceback (most recent call last)",
            "\u001b[0;32m<ipython-input-29-11f51762628d>\u001b[0m in \u001b[0;36m<module>\u001b[0;34m()\u001b[0m\n\u001b[1;32m      3\u001b[0m                 ['3', 'Rafael', 30, 75, 1.80, '0', '1','0', '0', '1', '1', '1']]\"\"\"\n\u001b[1;32m      4\u001b[0m \u001b[0;34m\u001b[0m\u001b[0m\n\u001b[0;32m----> 5\u001b[0;31m \u001b[0mnombre_archivo\u001b[0m \u001b[0;34m=\u001b[0m \u001b[0mempleados_salud\u001b[0m\u001b[0;34m.\u001b[0m\u001b[0mtxt\u001b[0m\u001b[0;34m\u001b[0m\u001b[0;34m\u001b[0m\u001b[0m\n\u001b[0m\u001b[1;32m      6\u001b[0m \u001b[0;32mglobal\u001b[0m \u001b[0mempleados\u001b[0m\u001b[0;34m\u001b[0m\u001b[0;34m\u001b[0m\u001b[0m\n\u001b[1;32m      7\u001b[0m \u001b[0mempleados\u001b[0m \u001b[0;34m=\u001b[0m \u001b[0;34m[\u001b[0m\u001b[0;34m]\u001b[0m\u001b[0;34m\u001b[0m\u001b[0;34m\u001b[0m\u001b[0m\n",
            "\u001b[0;31mNameError\u001b[0m: name 'empleados_salud' is not defined"
          ]
        }
      ]
    },
    {
      "cell_type": "markdown",
      "metadata": {
        "id": "LeKgFSmL0P8u"
      },
      "source": [
        "### **Reflexion**\n",
        "Aprendi muchas cosas al hacer este proyecto y pienso que desarrolle mi pensamiento critico. Al principio no sabia absolutamente nada y con el paso de los dias fui aprendiendo un poco mas. Creo que le pude haber dedicado un poco mas de tiempo para que estuviera perfecto, pero aun asi pienso que hice un buen trabajo en poco tiempo."
      ]
    }
  ]
}